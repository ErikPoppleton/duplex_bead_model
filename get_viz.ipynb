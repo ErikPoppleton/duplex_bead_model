{
 "cells": [
  {
   "cell_type": "code",
   "execution_count": 132,
   "metadata": {},
   "outputs": [],
   "source": [
    "from sys import argv\n",
    "from os import chdir, path\n",
    "import numpy as np\n",
    "from oxDNA_analysis_tools import duplex_finder\n",
    "from oxDNA_analysis_tools.UTILS.RyeReader import strand_describe, describe, get_confs, inbox\n",
    "\n",
    "#set the working directory back to the root directory\n",
    "chdir(path.dirname(path.abspath('')))"
   ]
  },
  {
   "cell_type": "code",
   "execution_count": 133,
   "metadata": {},
   "outputs": [],
   "source": [
    "#each directory should have an input, topology, relaxed configuration and mean configuration with these names:\n",
    "dirname = 'RNAog'\n",
    "\n",
    "mean = 'mean.dat'\n",
    "conf = dirname+'.dat'\n",
    "top = dirname+'.top'\n",
    "inp = 'input'"
   ]
  },
  {
   "cell_type": "code",
   "execution_count": 134,
   "metadata": {},
   "outputs": [
    {
     "name": "stderr",
     "output_type": "stream",
     "text": [
      "INFO: oxDNA_analysis_tools version: 2.0.0\n",
      "INFO: running config.py installed at:  /home/erik/anaconda3/lib/python3.9/site-packages/oxDNA_analysis_tools/config.py\n",
      "INFO: Python version: 3.9.7\n",
      "INFO: Package Numpy found. Version: 1.20.3\n",
      "INFO: No dependency issues found.\n",
      "INFO: No outfile name provided, defaulting to \"angles.txt\"\n",
      "WARNING: Sequence dependence not set for RNA model, wobble base pairs will be ignored\n",
      "/home/erik/anaconda3/lib/python3.9/site-packages/oxDNA_analysis_tools/UTILS/geom.py:100: FutureWarning: `rcond` parameter will change to the default of machine precision times ``max(M, N)`` where M and N are the input matrix dimensions.\n",
      "To use the future default and silence this warning we advise to pass `rcond=None`, to keep using the old, explicitly pass `rcond=-1`.\n",
      "  t,c = np.linalg.lstsq(mat,y)[0]\n",
      "INFO: Processing in blocks of 20 configurations\n",
      "INFO: You can modify this number by running oat config -n <number>, which will be persistent between analyses.\n",
      "WARNING: Overwriting key `trajectory_file' (`trajectory.dat' to `RNAog.dat')\n",
      "INFO: Running oxRNA version DEC2013\n",
      "INFO: Running modification of oxRNA with additional Debye-Huckel potential\n",
      "INFO: The generator will try to take into account bonded interactions by choosing distances between bonded neighbours no larger than 2.000000\n",
      "INFO: Converting temperature from Celsius (37.000000 C°) to simulation units (0.103383)\n",
      "INFO: Running Debye-Huckel at salt_concentration =  1\n",
      "INFO: No order parameters file specified in input file; printing indices of any particle pairs that have a hydrogen bond between them\n",
      "INFO: DEBUGGING: rhigh is 1.11863, Cutoff is 2.56543, RC huckel is 1.671, B huckel is 0.0119015, V is 0, lambda is 0.366726 \n",
      "INFO: DEBUGGING: dh_half_charged_ends = true\n",
      "INFO: Using mismatch repulsion with strength 1.000000\n",
      "INFO: (Cells.cpp) N_cells_side: 16, 16, 16; rcut=2.56543, IS_MC: 0\n",
      "INFO: N: 1790, N molecules: 1\n"
     ]
    },
    {
     "name": "stdout",
     "output_type": "stream",
     "text": [
      "Starting up 1 processes for 1 chunks\n",
      "All spawned, waiting for results\n",
      "--- 8298.687703847885 seconds ---\n"
     ]
    },
    {
     "name": "stderr",
     "output_type": "stream",
     "text": [
      "\n",
      "Please cite these publications for any work that uses the oxDNA simulation package\n",
      "\t\t- for the code:\n",
      "\t\t\t* P. Šulc et al., J. Chem. Phys. 137, 135101 (2012)\n",
      "\t\t\t* L. Rovigatti et al., J. Comput. Chem. 36, 1 (2015)\n",
      "\t\t- for the oxDNA model:\n",
      "\t\t\t* T. E. Ouldridge et al., J. Chem. Phys, 134, 085101 (2011)\n",
      "\t\t- for the oxDNA2 model:\n",
      "\t\t\t* B. E. K. Snodin et al., J. Chem. Phys. 142, 234901 (2015)\n",
      "\t\t- for the oxRNA model:\n",
      "\t\t\t* P. Šulc et al., J. Chem. Phys. 140, 235102 (2014)\n",
      "INFO: Aggregated I/O statistics (set debug=1 for file-wise information)\n",
      "\t  0.000  B written to files\n",
      "\t  0.000  B written to stdout/stderr\n",
      "INFO: Writing duplex data to angles.txt.  Use duplex_angle_plotter to graph data\n"
     ]
    }
   ],
   "source": [
    "#Use oat to find all duplexes in the relaxed configuration (it won't work on mean)\n",
    "chdir(dirname)\n",
    "argv.clear()\n",
    "argv.extend(['duplex_finder.py', inp, conf])\n",
    "\n",
    "duplex_finder.main()"
   ]
  },
  {
   "cell_type": "code",
   "execution_count": 135,
   "metadata": {},
   "outputs": [],
   "source": [
    "#the previous block made angles.txt, read it into a dict associating particles to duplex ids\n",
    "with open('angles.txt', 'r') as f:\n",
    "    duplex_ends = f.readlines()\n",
    "    \n",
    "d1_ends = [d.split('\\t')[2:4] for d in duplex_ends[1:]]\n",
    "d2_ends = [d.split('\\t')[4:6] for d in duplex_ends[1:]]\n",
    "d1s = [list(range(int(d[0]), int(d[1])+1)) for d in d1_ends]\n",
    "d2s = [list(range(int(d[0]), int(d[1])+1)) for d in d2_ends]\n",
    "\n",
    "p_to_d = {}\n",
    "for i, (d1, d2) in enumerate(zip(d1s, d2s)):\n",
    "    for p in d1:\n",
    "        p_to_d[p] = i\n",
    "    for p in d2:\n",
    "        p_to_d[p] = i+len(d1s)\n"
   ]
  },
  {
   "cell_type": "code",
   "execution_count": 136,
   "metadata": {},
   "outputs": [],
   "source": [
    "# Get the topology info and the mean structure from files\n",
    "top_info, traj_info = describe(None, mean)\n",
    "\n",
    "mean_ox = get_confs(traj_info.idxs, traj_info.path, 0, 1, top_info.nbases)[0]\n",
    "mean_ox = inbox(mean_ox, center=True)"
   ]
  },
  {
   "cell_type": "code",
   "execution_count": 137,
   "metadata": {},
   "outputs": [],
   "source": [
    "# Compute the CoM for each domain in each duplex\n",
    "d1_means = [np.mean(mean_ox.positions[idx], axis=0) for idx in d1s]\n",
    "d2_means = [np.mean(mean_ox.positions[idx], axis=0) for idx in d2s]\n",
    "\n",
    "d_means = [np.mean(mean_ox.positions[d1+d2], axis=0) for d1, d2 in zip(d1s, d2s)]"
   ]
  },
  {
   "cell_type": "code",
   "execution_count": 138,
   "metadata": {},
   "outputs": [],
   "source": [
    "# Dump domain CoM and duplex CoM files to .xyz files\n",
    "with open (\"domain_centers.xyz\", \"w+\") as f:\n",
    "    f.write('\\n'.join(' '.join(str(x) for x in y) for y in d1_means))\n",
    "    f.write('\\n')\n",
    "    f.write('\\n'.join(' '.join(str(x) for x in y) for y in d2_means))\n",
    "\n",
    "with open (\"duplex_centers.xyz\", 'w+') as f:\n",
    "    f.write('\\n'.join(' '.join(str(x) for x in y) for y in d_means))"
   ]
  },
  {
   "cell_type": "code",
   "execution_count": 139,
   "metadata": {},
   "outputs": [
    {
     "data": {
      "text/plain": [
       "'system, monomers = strand_describe(top)\\nbackbone_par = []\\nbackbone_par2 = []\\nbonded_par = []\\n\\nfor s in system:\\n    ds =  set({})\\n    for m in s:\\n        if m.id in p_to_d.keys():\\n            ds.add(p_to_d[m.id])\\n    ds = sorted(list(ds))\\n\\n    for i, d in enumerate(ds[:-1]):\\n        backbone_par.append([d, ds[i+1]])\\n\\n        if p_to_d[s[3].id] > len(d1s):\\n            backbone_par2.append([d - len(d1s), ds[i+1] - len(d1s)])\\n        else:\\n            backbone_par2.append([d, ds[i+1]])\\n\\nfor i, (d1, d2) in enumerate(zip(d1s, d2s)):\\n    bonded_par.append([i, i+len(d1s)])\\n\\n'"
      ]
     },
     "execution_count": 139,
     "metadata": {},
     "output_type": "execute_result"
    }
   ],
   "source": [
    "# Create a list of connections between domain centers in the format of an ANM parfile\n",
    "# This was an initial attempt at visualization\n",
    "# This makes two parfiles, one for the first strand (assmed to be the scaffold) and one for all others.\n",
    "'''system, monomers = strand_describe(top)\n",
    "backbone_par = []\n",
    "backbone_par2 = []\n",
    "bonded_par = []\n",
    "\n",
    "for s in system:\n",
    "    ds =  set({})\n",
    "    for m in s:\n",
    "        if m.id in p_to_d.keys():\n",
    "            ds.add(p_to_d[m.id])\n",
    "    ds = sorted(list(ds))\n",
    "\n",
    "    for i, d in enumerate(ds[:-1]):\n",
    "        backbone_par.append([d, ds[i+1]])\n",
    "\n",
    "        if p_to_d[s[3].id] > len(d1s):\n",
    "            backbone_par2.append([d - len(d1s), ds[i+1] - len(d1s)])\n",
    "        else:\n",
    "            backbone_par2.append([d, ds[i+1]])\n",
    "\n",
    "for i, (d1, d2) in enumerate(zip(d1s, d2s)):\n",
    "    bonded_par.append([i, i+len(d1s)])\n",
    "\n",
    "'''"
   ]
  },
  {
   "cell_type": "code",
   "execution_count": 140,
   "metadata": {},
   "outputs": [
    {
     "data": {
      "text/plain": [
       "'with open(\"backbone.par\", \"w+\") as f:\\n    f.write(str(top_info.nbases)+\\'\\n\\')\\n    for l in backbone_par:\\n        f.write(str(l[0])+\\' \\'+str(l[1])+\\' 1.0 s 5.0 1.0 1.0 1.0 1.0\\'+\\'\\n\\')\\n'"
      ]
     },
     "execution_count": 140,
     "metadata": {},
     "output_type": "execute_result"
    }
   ],
   "source": [
    "# Dump the connections for the scaffold as a parfile \n",
    "'''with open(\"backbone.par\", \"w+\") as f:\n",
    "    f.write(str(top_info.nbases)+'\\n')\n",
    "    for l in backbone_par:\n",
    "        f.write(str(l[0])+' '+str(l[1])+' 1.0 s 5.0 1.0 1.0 1.0 1.0'+'\\n')\n",
    "'''"
   ]
  },
  {
   "cell_type": "code",
   "execution_count": 141,
   "metadata": {},
   "outputs": [
    {
     "data": {
      "text/plain": [
       "'with open(\"backbone2.par\", \"w+\") as f:\\n    f.write(str(top_info.nbases)+\\'\\n\\')\\n    for l in backbone_par2:\\n        f.write(str(l[0])+\\' \\'+str(l[1])+\\' 1.0 s 5.0 1.0 1.0 1.0 1.0\\'+\\'\\n\\')\\n'"
      ]
     },
     "execution_count": 141,
     "metadata": {},
     "output_type": "execute_result"
    }
   ],
   "source": [
    "# Dump other connections as another parfile\n",
    "'''with open(\"backbone2.par\", \"w+\") as f:\n",
    "    f.write(str(top_info.nbases)+'\\n')\n",
    "    for l in backbone_par2:\n",
    "        f.write(str(l[0])+' '+str(l[1])+' 1.0 s 5.0 1.0 1.0 1.0 1.0'+'\\n')\n",
    "'''"
   ]
  },
  {
   "cell_type": "code",
   "execution_count": 142,
   "metadata": {},
   "outputs": [
    {
     "data": {
      "text/plain": [
       "\"# Connections between beads which are supposed to be bonded\\nwith open('bonded.par', 'w+') as f:\\n    f.write(str(top_info.nbases)+'\\n')\\n    for l in bonded_par:\\n        f.write(str(l[0])+' '+str(l[1])+' 1.0 s 5.0 1.0 1.0 1.0 1.0'+'\\n')\\n\""
      ]
     },
     "execution_count": 142,
     "metadata": {},
     "output_type": "execute_result"
    }
   ],
   "source": [
    "'''# Connections between beads which are supposed to be bonded\n",
    "with open('bonded.par', 'w+') as f:\n",
    "    f.write(str(top_info.nbases)+'\\n')\n",
    "    for l in bonded_par:\n",
    "        f.write(str(l[0])+' '+str(l[1])+' 1.0 s 5.0 1.0 1.0 1.0 1.0'+'\\n')\n",
    "'''"
   ]
  },
  {
   "cell_type": "markdown",
   "metadata": {},
   "source": [
    "Showed this to Petr but he doesn't like that the beads are overlapping even though this is the \"right\" visualization.  So the next attempt is going to be to draw the sphere at the backbone site of the middle nucleotide in the duplex.\n"
   ]
  },
  {
   "cell_type": "code",
   "execution_count": 143,
   "metadata": {},
   "outputs": [],
   "source": [
    "# Find the median base pair in each duplex and write their IDs to a file\n",
    "middle_nucs = [np.floor(np.median(d)) for d in d1s]\n",
    "middle_nucs.extend([np.ceil(np.median(d)) for d in d2s])\n",
    "\n",
    "with open('mid_n.txt', 'w+') as f:\n",
    "    f.write(' '.join(str(int(x)) for x in middle_nucs))"
   ]
  },
  {
   "cell_type": "code",
   "execution_count": 144,
   "metadata": {},
   "outputs": [
    {
     "name": "stdout",
     "output_type": "stream",
     "text": [
      "Starting up 1 processes for 1 chunks\n",
      "All spawned, waiting for results\n",
      "finished 1/1\r"
     ]
    },
    {
     "name": "stderr",
     "output_type": "stream",
     "text": [
      "INFO: Processing in blocks of 20 configurations\n",
      "INFO: You can modify this number by running oat config -n <number>, which will be persistent between analyses.\n",
      "INFO: Wrote trajectories: ['mid_n.dat']\n",
      "INFO: Wrote topologies: ['mid_n.top']\n"
     ]
    }
   ],
   "source": [
    "# Use oat to extract just those nucleotides into a new dat/top file\n",
    "from oxDNA_analysis_tools import subset_trajectory\n",
    "\n",
    "argv.clear()\n",
    "argv.extend(['subset_trajectory.py', mean, top, '-i', 'mid_n.txt', 'mid_n'])\n",
    "\n",
    "subset_trajectory.main()"
   ]
  },
  {
   "cell_type": "markdown",
   "metadata": {},
   "source": [
    "Then, go take the mid_n.dat and mid_n.top files to oxView.  Turn off centering when loading.\n",
    "\n",
    "Run the following snippet to randomly generate some strand colors (only for the multi-stranded origamis):\n",
    "```JavaScript\n",
    "systems[0].strands.forEach(s => {\n",
    "\tc = view.getRandomHue()\n",
    "\ts.select()\n",
    "\tcolorElements(c)\n",
    "\tclearSelection()\n",
    "})\n",
    "```\n",
    "\n",
    "Run the following snippet to change the material and make the backbones big, transparent and pretty:\n",
    "```JavaScript\n",
    "switchMaterial(instanceMaterial2)\n",
    "instanceMaterial2.transparent = true\n",
    "instanceMaterial2.opacity = 0.7\n",
    "\n",
    "systems[0].doVisuals(() => {\n",
    "  let i = 0;\n",
    "  i = systems[0].scales.indexOf(1);\n",
    "  while(i != -1) {\n",
    "      systems[0].scales[i] = 2;\n",
    "      i = systems[0].scales.indexOf(1);\n",
    "  }\n",
    "\n",
    "  i = systems[0].bbconScales.indexOf(1);\n",
    "  while(i != -1) {\n",
    "      systems[0].bbconScales[i] = 1.5;\n",
    "      i = systems[0].bbconScales.indexOf(1);\n",
    "  }\n",
    "\n",
    "  i = systems[0].conScales.indexOf(1);\n",
    "  while(i != -1) {\n",
    "      systems[0].conScales[i] = 2;\n",
    "      i = systems[0].conScales.indexOf(1);\n",
    "  }\n",
    "})\n",
    "\n",
    "scene.remove(systems[0].nucleoside)\n",
    "\n",
    "render()\n",
    "```\n",
    "Take a screenshot.\n",
    "\n",
    "Then without moving the camera load up the mean structure, select the scaffold, color it a light grey (the other strands will jump to the `GREY` color)\n",
    "\n",
    "Run\n",
    "```JavaScript\n",
    "api.toggleBaseColors()\n",
    "```\n",
    "to remove the base colors.\n",
    "\n",
    "Take another screenshot."
   ]
  },
  {
   "cell_type": "markdown",
   "metadata": {},
   "source": []
  }
 ],
 "metadata": {
  "interpreter": {
   "hash": "8c4c8510ef8ebf92c71b12674dd4c6e46a22be7143d6d92cf0443214191cf3c1"
  },
  "kernelspec": {
   "display_name": "Python 3.9.7 ('base')",
   "language": "python",
   "name": "python3"
  },
  "language_info": {
   "codemirror_mode": {
    "name": "ipython",
    "version": 3
   },
   "file_extension": ".py",
   "mimetype": "text/x-python",
   "name": "python",
   "nbconvert_exporter": "python",
   "pygments_lexer": "ipython3",
   "version": "3.9.7"
  },
  "orig_nbformat": 4
 },
 "nbformat": 4,
 "nbformat_minor": 2
}
